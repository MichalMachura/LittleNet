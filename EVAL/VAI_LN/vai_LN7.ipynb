{
 "cells": [
  {
   "cell_type": "code",
   "execution_count": 1,
   "metadata": {
    "ExecuteTime": {
     "end_time": "2022-02-21T14:20:38.772519Z",
     "start_time": "2022-02-21T14:20:35.876890Z"
    }
   },
   "outputs": [
    {
     "data": {
      "application/javascript": "\ntry {\nrequire(['notebook/js/codecell'], function(codecell) {\n  codecell.CodeCell.options_default.highlight_modes[\n      'magic_text/x-csrc'] = {'reg':[/^%%microblaze/]};\n  Jupyter.notebook.events.one('kernel_ready.Kernel', function(){\n      Jupyter.notebook.get_cells().map(function(cell){\n          if (cell.cell_type == 'code'){ cell.auto_highlight(); } }) ;\n  });\n});\n} catch (e) {};\n"
     },
     "metadata": {},
     "output_type": "display_data"
    },
    {
     "data": {
      "application/javascript": "\ntry {\nrequire(['notebook/js/codecell'], function(codecell) {\n  codecell.CodeCell.options_default.highlight_modes[\n      'magic_text/x-csrc'] = {'reg':[/^%%pybind11/]};\n  Jupyter.notebook.events.one('kernel_ready.Kernel', function(){\n      Jupyter.notebook.get_cells().map(function(cell){\n          if (cell.cell_type == 'code'){ cell.auto_highlight(); } }) ;\n  });\n});\n} catch (e) {};\n"
     },
     "metadata": {},
     "output_type": "display_data"
    }
   ],
   "source": [
    "import numpy as np\n",
    "import os, time, json, sys\n",
    "import cv2 as cv\n",
    "import pynq_dpu, pynq\n",
    "from threading import Thread\n",
    "import numpy as np\n",
    "# import matplotlib.pyplot as plt\n",
    "# add path\n",
    "sys.path.append('../custom_lib')\n",
    "from utils import iou, sigmoid, PowerRecorder"
   ]
  },
  {
   "cell_type": "code",
   "execution_count": 2,
   "metadata": {
    "ExecuteTime": {
     "end_time": "2022-02-21T14:20:40.150219Z",
     "start_time": "2022-02-21T14:20:38.803412Z"
    },
    "code_folding": []
   },
   "outputs": [],
   "source": [
    "def load_img(path, dst_list, in_sh, shift=1):\n",
    "    pre_buff = cv.imread(path) >> shift\n",
    "    pre_buff = pre_buff.reshape(in_sh).astype(np.int8)\n",
    "    dst_list.append(pre_buff)\n",
    "\n",
    "    \n",
    "class VAI:\n",
    "\n",
    "    def __init__(self, dpu_path, xmodel, anchors, anchors_mul):\n",
    "        self.ov = pynq_dpu.DpuOverlay(dpu_path)\n",
    "        self.ov.load_model(xmodel)\n",
    "        self.delay = 2\n",
    "        \n",
    "        self.dpu = self.ov.runner\n",
    "\n",
    "        inputTensors = self.dpu.get_input_tensors()\n",
    "        outputTensors = self.dpu.get_output_tensors()\n",
    "\n",
    "        shapeIn = tuple(inputTensors[0].dims)\n",
    "        shapeOut = tuple(outputTensors[0].dims)\n",
    "        in_bw = inputTensors[0].get_attr('bit_width')\n",
    "        in_fp = inputTensors[0].get_attr('fix_point')\n",
    "        out_bw = outputTensors[0].get_attr('bit_width')\n",
    "        out_fp = outputTensors[0].get_attr('fix_point')\n",
    "\n",
    "        self.in_repr = (in_bw, in_fp)\n",
    "        self.out_repr = (out_bw, out_fp)\n",
    "        # buffers\n",
    "        self.pre_buff = []\n",
    "        self.dpu_buff_in = np.empty(shapeIn,dtype=np.int8, order=\"C\")\n",
    "        self.dpu_buff_out = np.empty(shapeOut,dtype=np.int8, order=\"C\")\n",
    "        self.post_buff = np.empty(shapeOut,dtype=np.int8, order=\"C\")\n",
    "        \n",
    "        self.in_sh = shapeIn\n",
    "        self.out_sh = shapeOut\n",
    "        \n",
    "        self.map_size = shapeOut[-3]*shapeOut[-2]\n",
    "        self.anchors_num = shapeOut[-1] // 5\n",
    "        self.cols = shapeOut[-2]\n",
    "        self.rows = shapeOut[-3]\n",
    "        \n",
    "        input_shape = np.array(shapeIn[-3:-1][::-1], dtype=np.float32) # colsxrows\n",
    "        output_shape = np.array(shapeOut[-3:-1][::-1], dtype=np.float32) # colsxrows\n",
    "        # position at the output grid to pos at the original img \n",
    "        self.xy_mul = input_shape / output_shape\n",
    "        self.anchors = anchors\n",
    "        self.anchors_mul = anchors_mul\n",
    "        self.to_int_mul = 1 / (2**self.out_repr[1])\n",
    "        \n",
    "        self.delay = 2\n",
    "    \n",
    "    def find_max(self, a):\n",
    "        a = a.reshape((-1,15)).T.reshape((5,-1))\n",
    "        pos = a.shape[1] -1 - np.argmax(a[0,::-1].flatten())\n",
    "        pos = np.argmax(a[0,:].flatten())\n",
    "        \n",
    "        # get position in 3d\n",
    "        anchor_pos = pos // self.map_size\n",
    "        col_row_pos = np.array([pos % self.cols, pos//self.cols - anchor_pos*self.rows])\n",
    "        # anchor wh for given anchor pos\n",
    "        anchor = self.anchors[anchor_pos,:]\n",
    "        anchors_mul = self.anchors_mul[anchor_pos,:]\n",
    "        # get most probable bbox params\n",
    "        xywh_int = a[1:,pos].flatten().astype(np.float)\n",
    "        xywh_f = xywh_int*self.to_int_mul\n",
    "        # get position of center\n",
    "        xy = col_row_pos + sigmoid(xywh_f[:2])\n",
    "        xy = xy*self.xy_mul\n",
    "        # get sizes\n",
    "        wh = np.exp(xywh_f[-2:]*anchors_mul)*anchor\n",
    "        # XcYcWH to LTRB\n",
    "        LT = xy - wh / 2\n",
    "        RB = LT + wh\n",
    "        # to int values\n",
    "        ltrb = np.concatenate([LT,RB])\n",
    "        ltrb = np.round(ltrb).astype(int).tolist()\n",
    "\n",
    "        return ltrb\n",
    "    \n",
    "    def load_img(self, path):\n",
    "        # shift = bw - fraq  <- align fraqtional part to LSB\n",
    "        shift = self.in_repr[0] - self.in_repr[1]\n",
    "        th = Thread(target=load_img,args=(path,self.pre_buff,self.in_sh,shift))\n",
    "        th.start()\n",
    "        return th\n",
    "    \n",
    "    def __call__(self, path):\n",
    "        # start dpu processing\n",
    "        job_id = self.dpu.execute_async([self.dpu_buff_in], [self.dpu_buff_out])\n",
    "        \n",
    "        # run img loading thread\n",
    "        img_th = self.load_img(path)\n",
    "        \n",
    "        # post process prev result\n",
    "        result = self.find_max(self.post_buff)\n",
    "        \n",
    "        # sync\n",
    "        self.dpu.wait(job_id)\n",
    "        img_th.join()\n",
    "        \n",
    "        # swap buffers\n",
    "        # out buffs\n",
    "        tmp = self.post_buff\n",
    "        self.post_buff = self.dpu_buff_out\n",
    "        self.dpu_buff_out = tmp\n",
    "        # in buffs\n",
    "        self.dpu_buff_in = self.pre_buff[0]\n",
    "        self.pre_buff = []\n",
    "        \n",
    "        return result\n",
    "\n",
    "\n",
    "def get_dataset(path):\n",
    "    with open(os.path.join(path,'gt.json')) as f:\n",
    "        ds = json.loads(f.read())\n",
    "    \n",
    "    paths = []\n",
    "    ltrb = []\n",
    "    for v in ds.values():\n",
    "        paths.append(os.path.join(path,v['path']))\n",
    "        bbox = v['bbox']\n",
    "        ltrb.append([bbox['l'],bbox['t'],bbox['r'],bbox['b']])\n",
    "\n",
    "    return paths, ltrb\n",
    "\n",
    "\n",
    "def predict(paths, vai_obj:VAI):\n",
    "    results = []\n",
    "    \n",
    "    for p in paths:\n",
    "        r = vai_obj(p)\n",
    "        results.append(r)\n",
    "        \n",
    "    for i in range(vai_obj.delay):\n",
    "        r = vai_obj(p)\n",
    "        results.append(r)\n",
    "    \n",
    "    results = results[vai_obj.delay:]\n",
    "    \n",
    "    return results"
   ]
  },
  {
   "cell_type": "code",
   "execution_count": 3,
   "metadata": {
    "ExecuteTime": {
     "end_time": "2022-02-21T14:20:45.186317Z",
     "start_time": "2022-02-21T14:20:42.119289Z"
    }
   },
   "outputs": [],
   "source": [
    "anchor_mul = [[0.23019284009933472, 0.23658646643161774], \n",
    "              [0.19149231910705566, 0.19143685698509216], \n",
    "              [0.20761309564113617, 0.18979156017303467]]\n",
    "anchors = [[7.247058868408203, 10.725000381469727], \n",
    "           [1.6470588445663452, 3.25], \n",
    "           [4.941176414489746, 1.625]]\n",
    "anchor_mul = np.array(anchor_mul, dtype=np.float32)\n",
    "anchors = np.array(anchors, dtype=np.float32)\n",
    "paths, bbox_ref = get_dataset('../eval_images')\n",
    "\n",
    "vai = VAI('../VAI/dpu.bit','LN7_VAI.xmodel', anchors, anchor_mul)\n",
    "\n",
    "for i in range(5):\n",
    "    print()\n",
    "    print(i)\n",
    "    # start time measurement\n",
    "    start = time.time()\n",
    "    # record power every 0.05[s]\n",
    "    recorder = PowerRecorder()\n",
    "    with recorder.record(0.05):\n",
    "        bbox_pred = predict(paths,vai)\n",
    "\n",
    "    # stop time measurement\n",
    "    end = time.time()\n",
    "    t = end - start\n",
    "        \n",
    "    # Energy measurements    \n",
    "    energy = recorder.mean_power * t    \n",
    "\n",
    "    total_time = t\n",
    "    fps = len(paths) / total_time\n",
    "    total_energy = energy\n",
    "    energy_per_sample = energy / len(paths)\n",
    "\n",
    "    IOU = iou(bbox_pred, bbox_ref)\n",
    "    mean_iou = np.mean(IOU)\n",
    "\n",
    "    print(\"Number of images:\", len(paths))\n",
    "    print(\"Total time:\", total_time, \"[s]\")\n",
    "    print(\"Throughput:\", fps, \"[fps]\")\n",
    "    print(\"Total energy:\", total_energy, \"[J]\")\n",
    "    print(\"Energy per sample:\", energy_per_sample, \"[J/sample]\")\n",
    "    print(\"Mean IoU:\", mean_iou)\n"
   ]
  },
  {
   "cell_type": "code",
   "execution_count": null,
   "metadata": {},
   "outputs": [],
   "source": []
  }
 ],
 "metadata": {
  "kernelspec": {
   "display_name": "Python 3",
   "language": "python",
   "name": "python3"
  },
  "language_info": {
   "codemirror_mode": {
    "name": "ipython",
    "version": 3
   },
   "file_extension": ".py",
   "mimetype": "text/x-python",
   "name": "python",
   "nbconvert_exporter": "python",
   "pygments_lexer": "ipython3",
   "version": "3.6.5"
  },
  "varInspector": {
   "cols": {
    "lenName": 16,
    "lenType": 16,
    "lenVar": 40
   },
   "kernels_config": {
    "python": {
     "delete_cmd_postfix": "",
     "delete_cmd_prefix": "del ",
     "library": "var_list.py",
     "varRefreshCmd": "print(var_dic_list())"
    },
    "r": {
     "delete_cmd_postfix": ") ",
     "delete_cmd_prefix": "rm(",
     "library": "var_list.r",
     "varRefreshCmd": "cat(var_dic_list()) "
    }
   },
   "types_to_exclude": [
    "module",
    "function",
    "builtin_function_or_method",
    "instance",
    "_Feature"
   ],
   "window_display": false
  }
 },
 "nbformat": 4,
 "nbformat_minor": 2
}
